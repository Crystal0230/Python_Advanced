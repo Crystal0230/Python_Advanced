{
 "cells": [
  {
   "cell_type": "code",
   "execution_count": 20,
   "metadata": {},
   "outputs": [
    {
     "name": "stdout",
     "output_type": "stream",
     "text": [
      "页面\n",
      "页面\n",
      "页面\n",
      "页面\n",
      "页面\n",
      "404\n",
      "404\n",
      "404\n",
      "404\n",
      "404\n",
      "404\n",
      "404\n",
      "404\n",
      "404\n",
      "404\n",
      "404\n",
      "404\n",
      "404\n",
      "404\n",
      "404\n"
     ]
    }
   ],
   "source": [
    "import time\n",
    "def deco(func):\n",
    "    def warp(*args,**kwargs):\n",
    "        num = kwargs['num']\n",
    "        \n",
    "        if  i<=4:\n",
    "            print('页面')        \n",
    "        else:\n",
    "            return func(*args,**kwargs)\n",
    "            \n",
    "    return warp\n",
    "\n",
    "@deco\n",
    "def joker(num):\n",
    "    print('404')\n",
    "    \n",
    "if __name__ == \"__main__\":\n",
    "    for i in range(20):\n",
    "        time.sleep(2)\n",
    "        \n",
    "        \n",
    "        joker(num=i)"
   ]
  },
  {
   "cell_type": "code",
   "execution_count": 9,
   "metadata": {},
   "outputs": [
    {
     "name": "stdout",
     "output_type": "stream",
     "text": [
      "请输入6位包含大小写字母和数字的密码：1234567\n",
      "输入的密码不等于6位\n",
      "请输入6位包含大小写字母和数字的密码：qw1234\n",
      "未包含大写字母\n",
      "请输入6位包含大小写字母和数字的密码：A1q234\n",
      "输入成功\n"
     ]
    }
   ],
   "source": [
    "import re\n",
    "\n",
    "lowerRegex = re.compile('[a-z]')\n",
    "upperRegex = re.compile('[A-Z]')\n",
    "digitRegex = re.compile('[0-9]')\n",
    "wrongRegex = re.compile('[^a-zA-Z0-9]')\n",
    "def A(func):\n",
    "    def B():\n",
    "        while True:\n",
    "            password = input('请输入6位包含大小写字母和数字的密码：')\n",
    "            if len(password) != 6:\n",
    "                print('输入的密码不等于6位')\n",
    "            elif wrongRegex.search(password) != None:\n",
    "                print('包含无效字符')\n",
    "            else:\n",
    "                if lowerRegex.search(password) == None:\n",
    "                    print('未包含小写字母')\n",
    "                elif upperRegex.search(password) == None:\n",
    "                    print('未包含大写字母')\n",
    "                elif digitRegex.search(password) == None:\n",
    "                    print('未包含数字')\n",
    "                else:\n",
    "                    print(\"输入成功\")\n",
    "                    break\n",
    "    return B\n",
    "@A\n",
    "def joker():\n",
    "    pass\n",
    "    \n",
    "joker()\n"
   ]
  },
  {
   "cell_type": "code",
   "execution_count": null,
   "metadata": {},
   "outputs": [],
   "source": []
  },
  {
   "cell_type": "code",
   "execution_count": null,
   "metadata": {},
   "outputs": [],
   "source": []
  }
 ],
 "metadata": {
  "kernelspec": {
   "display_name": "Python 3",
   "language": "python",
   "name": "python3"
  },
  "language_info": {
   "codemirror_mode": {
    "name": "ipython",
    "version": 3
   },
   "file_extension": ".py",
   "mimetype": "text/x-python",
   "name": "python",
   "nbconvert_exporter": "python",
   "pygments_lexer": "ipython3",
   "version": "3.6.4"
  }
 },
 "nbformat": 4,
 "nbformat_minor": 2
}
