{
 "cells": [
  {
   "cell_type": "code",
   "execution_count": 10,
   "metadata": {},
   "outputs": [
    {
     "name": "stdout",
     "output_type": "stream",
     "text": [
      "面积： 1600\n",
      "周长： 160\n",
      "面积： 124.95000000000002\n",
      "周长： 78.4\n"
     ]
    }
   ],
   "source": [
    "'''\n",
    "1、Rectangle类：\n",
    "    1)两个名为width和height的数据域\n",
    "    2）构造方法创建一个指定width和height的矩形，将1和2分别作为width和height的默认值\n",
    "    3）一个名为getArea（）的方法来返回这个矩形的面积\n",
    "    4）一个名为getPerimeter（）的方法返回周长\n",
    "'''\n",
    "class Rectangle:\n",
    "    def __init__(self, width, height):\n",
    "        self.width = width\n",
    "        self.height = height\n",
    "    def getArea(self):\n",
    "        return self.width*self.height\n",
    "    def getPerimeter(self):\n",
    "        return (self.width+self.height)*2\n",
    "rectangle_1 =Rectangle(40, 40 )\n",
    "print('面积：',rectangle_1.getArea())\n",
    "print('周长：',rectangle_1.getPerimeter())\n",
    "\n",
    "rectangle_2 =Rectangle(3.5, 35.7 )\n",
    "print('面积：',rectangle_2.getArea())\n",
    "print('周长：',rectangle_2.getPerimeter())\n"
   ]
  },
  {
   "cell_type": "code",
   "execution_count": 27,
   "metadata": {},
   "outputs": [],
   "source": [
    "'''\n",
    "2、Account类：设计一个名为Account的类，它包括：\n",
    "    1）账户的一个名为id的私有int数据域\n",
    "    2）账户的一个名为balance的私有浮点数据域\n",
    "    3）一个名为annuallnterestRate的私有浮点数据域存储当前利率\n",
    "    4）一个构造方法创建具有待定id（默认值0）、初始额（默认值100）以及年利率（默认值0）\n",
    "    5）id、balance和annuallnterestRate的访问器和修改器\n",
    "    6）一个名为getmonthlyInterestRate()的方法返回月利率\n",
    "    7）一个名为getmonthlyInterest()的方法返回月利息\n",
    "    8）一个名为withdraw的方法从账户取出的特指定数额\n",
    "    9）一个名为deposit的方法向账户存入指定数额\n",
    "'''\n",
    "class Account(object):\n",
    "    def __init__(self,id,chushie,nlilv):\n",
    "        self._id = id\n",
    "        self.__chushie = chushie\n",
    "        self.__nlilv = nlilv\n",
    "    @property\n",
    "    def id(self):\n",
    "        print(self._id)\n",
    "    @id.setter\n",
    "    def id(self,num):\n",
    "        self._id = num\n",
    "    \n",
    "    def getmonthlyInterestRate(self,lilv):\n",
    "        self.lilv = lilv\n",
    "    def getmonthlyInterest(self):\n",
    "        self.lixi = self.__chushie * self.lilv\n",
    "    def withdraw(self):\n",
    "        print('请输入取出金额：')\n",
    "        res_1 = input('>>')\n",
    "        print('您成功取出',res_1,'元')\n",
    "    def deposit(self):\n",
    "        print('请输入存入金额：')\n",
    "        res_1 = input('>>')\n",
    "        print('您成功存入',res_1,'元')"
   ]
  },
  {
   "cell_type": "code",
   "execution_count": 28,
   "metadata": {},
   "outputs": [
    {
     "name": "stdout",
     "output_type": "stream",
     "text": [
      "请输入取出金额：\n",
      ">>1000\n",
      "您成功取出 1000 元\n",
      "请输入存入金额：\n",
      ">>223\n",
      "您成功存入 223 元\n"
     ]
    }
   ],
   "source": [
    "account = Account(0,100,1)\n",
    "account.id =1000\n",
    "account.getmonthlyInterestRate(0.03)\n",
    "account.getmonthlyInterest()\n",
    "\n",
    "account.withdraw()\n",
    "account.deposit()"
   ]
  },
  {
   "cell_type": "code",
   "execution_count": 35,
   "metadata": {},
   "outputs": [
    {
     "name": "stdout",
     "output_type": "stream",
     "text": [
      "MEDIUM 8 True green\n"
     ]
    }
   ],
   "source": [
    "'''\n",
    "3、Fan类：设计一个名为Fan的类表示一个风扇，这个类包括;\n",
    "    1)三个名为SLOW、MEDIUM和FAST的常量，他们的值分别为1、2和3以表示风扇速度\n",
    "    2）一个名为speed的私有整型数据域表明风扇的速度\n",
    "    3）一个名为on的私有布尔数据域表明风扇是否是打开状态（默认值是False）\n",
    "    4）一个名为radius的私有浮点数据域表明风扇的半径\n",
    "    5）一个名为color的私有字符串数据域表明风扇的颜色\n",
    "    6）四个数据域的访问器和修改器\n",
    "    7）一个构方法创建一个具有特定速度（默认值为SLOW）、半径（默认值为5）、颜色（默认值为blue）、以及是否打开（默认值为False）\n",
    "'''\n",
    "class Fan(object):\n",
    "    def __init__(self):\n",
    "        self.speed = 1\n",
    "        self.on = False\n",
    "        self.radius = 5\n",
    "        self.color = 'blue'\n",
    "    def fengshan(self,speed,on,radius,color):\n",
    "        self.speed = speed\n",
    "        self.on = on\n",
    "        self.radius = radius\n",
    "        self.color = color\n",
    "    def SPEED(self):\n",
    "        if self.speed == 1:\n",
    "            res = 'SLOW'\n",
    "        elif self.speed == 2:\n",
    "            res = 'MEDIUM'\n",
    "        else:\n",
    "            res = 'FAST'\n",
    "        print(res,self.on,self.radius,self.color)\n",
    "fan = Fan()\n",
    "fan.fengshan(2,8,True,'green')\n",
    "fan.SPEED()     "
   ]
  },
  {
   "cell_type": "code",
   "execution_count": 39,
   "metadata": {},
   "outputs": [
    {
     "name": "stdout",
     "output_type": "stream",
     "text": [
      "48\n",
      "179.1384387633061\n"
     ]
    }
   ],
   "source": [
    "'''\n",
    "4、几何：正n边形\n",
    "    设计一个名为RegularPolygon的类\n",
    "\n",
    "'''\n",
    "import math\n",
    "class RegularPolygon(object):\n",
    "    def __init__(self,n,side,x,y):\n",
    "        self.n =n\n",
    "        self.side =side\n",
    "        self.x =x\n",
    "        self.y =y\n",
    "    def getPerimenter(self):\n",
    "        print(self.n*self.side)\n",
    "    def getArea(self):\n",
    "        \n",
    "        a = self.n*self.side**2/(4*math.tan(math.pi/self.n))\n",
    "        print(a)\n",
    "reg = RegularPolygon(12,4,7,8)\n",
    "reg.getPerimenter()\n",
    "reg.getArea()"
   ]
  },
  {
   "cell_type": "code",
   "execution_count": 57,
   "metadata": {},
   "outputs": [
    {
     "name": "stdout",
     "output_type": "stream",
     "text": [
      "-4.0\n",
      "4.5\n"
     ]
    }
   ],
   "source": [
    "'''\n",
    "5、代数：2*2线性方程式\n",
    "    设计一个名为LinearEquation的类\n",
    "'''\n",
    "class LinearEquation():\n",
    "    def __init__(self,a,b,c,d,e,f):\n",
    "        self.__a = a\n",
    "        self.__b=b\n",
    "        self.__c=c\n",
    "        self.__d=d\n",
    "        self.__e=e\n",
    "        self.__f=f\n",
    "        self.adbc = 0\n",
    "        self.x = 0\n",
    "        self.y = 0\n",
    "    def isSolvable(self):\n",
    "        adbc = self.__a*self.__d-self.__b*self.__c\n",
    "        if adbc != 0:\n",
    "            self.adbc=True\n",
    "        else:\n",
    "            self.adbc=False\n",
    "    def get(self):\n",
    "        self.x=(self.__e*self.__d-self.__b*self.__f)/(self.__a*self.__d-self.__b*self.__c)\n",
    "        self.y=(self.__a*self.__f-self.__e*self.__c)/(self.__a*self.__d-self.__b*self.__c)\n",
    "    def getX(self):\n",
    "        self.isSolvable()\n",
    "        if self.adbc == True:\n",
    "            self.get()\n",
    "            print(self.x)\n",
    "        else:\n",
    "            pass\n",
    "    def getY(self):\n",
    "        self.isSolvable()\n",
    "        if self.adbc == True:\n",
    "            self.get()\n",
    "            print(self.y)\n",
    "        else:\n",
    "            pass\n",
    "line = LinearEquation(1,2,3,4,5,6)\n",
    "line.getX()\n",
    "line.getY()"
   ]
  },
  {
   "cell_type": "code",
   "execution_count": 69,
   "metadata": {},
   "outputs": [
    {
     "data": {
      "text/plain": [
       "(2.0, 7.0)"
      ]
     },
     "execution_count": 69,
     "metadata": {},
     "output_type": "execute_result"
    }
   ],
   "source": [
    "'''\n",
    "6、几何：交叉线\n",
    "    假设有两条线段相交\n",
    "'''\n",
    "\n",
    "import numpy as np\n",
    "def get_crossing(s1,s2):\n",
    "    x1,y1 = s1[0][0],s1[0][1]\n",
    "    x2,y2 = s1[1][0],s1[1][1]\n",
    "    x3,y3 = s2[0][0],s2[0][1]\n",
    "    x4,y4 = s2[1][0],s2[1][1]\n",
    "    #判断两条直线是否相交，矩阵行列式计算\n",
    "    a = np.matrix(\n",
    "        [\n",
    "            [x2-x1,-(x4-x3)],\n",
    "            [y2-y1,-(y4-y3)]\n",
    "        ]\n",
    "    )\n",
    "    delta = np.linalg.det(a)\n",
    "    #不相交,返回两线段\n",
    "    if np.fabs(delta) < 1e-6:\n",
    "        print(delta)\n",
    "        return None        \n",
    "    #求两个参数lambda和miu\n",
    "    c = np.matrix(\n",
    "        [\n",
    "            [x3-x1,-(x4-x3)],\n",
    "            [y3-y1,-(y4-y3)]\n",
    "        ]\n",
    "    )\n",
    "    d = np.matrix(\n",
    "        [\n",
    "            [x2-x1,x3-x1],\n",
    "            [y2-y1,y3-y1]\n",
    "        ]\n",
    "    )\n",
    "    lamb = np.linalg.det(c)/delta\n",
    "    miu = np.linalg.det(d)/delta\n",
    "    #相交\n",
    "    if lamb <= 1 and lamb >= 0 and miu >= 0 and miu <= 1:\n",
    "        x = x3 + miu*(x4-x3)\n",
    "        y = y3+ miu*(y4-y3)\n",
    "        return (x,y)\n",
    "    #相交在延长线上\n",
    "    else:\n",
    "        return None\n",
    "    \n",
    "get_crossing(((6,3),(2,7)),((1,5),(2,7)))    "
   ]
  },
  {
   "cell_type": "code",
   "execution_count": null,
   "metadata": {},
   "outputs": [],
   "source": [
    "\n"
   ]
  }
 ],
 "metadata": {
  "kernelspec": {
   "display_name": "Python 3",
   "language": "python",
   "name": "python3"
  },
  "language_info": {
   "codemirror_mode": {
    "name": "ipython",
    "version": 3
   },
   "file_extension": ".py",
   "mimetype": "text/x-python",
   "name": "python",
   "nbconvert_exporter": "python",
   "pygments_lexer": "ipython3",
   "version": "3.6.4"
  }
 },
 "nbformat": 4,
 "nbformat_minor": 2
}
