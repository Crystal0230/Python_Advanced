{
 "cells": [
  {
   "cell_type": "code",
   "execution_count": 1,
   "metadata": {},
   "outputs": [],
   "source": [
    "'''\n",
    "王者农药\n",
    "人机对战\n",
    "1.点击人机对战的按钮(输入)\n",
    "2.挑选人物(典韦,赵云,鲁班)\n",
    "3.显示战力,技能,防御\n",
    "4.人物确定,随机出1个人机，包括战力,名字...等信息显示\n",
    "5.点击开始按钮..\n",
    "6.进入加载页面...\n",
    "'''\n",
    "import numpy as np\n",
    "class wangzhe():\n",
    "    def __init__(self):\n",
    "        pass\n",
    "    def duizhan(self):\n",
    "        choice =input('输入>>')\n",
    "        if choice == 1:\n",
    "            print('人机')\n",
    "        else:\n",
    "            print('多人')\n",
    "    def renwu(self):\n",
    "        choice1 =input('请选择英雄:典韦 赵云 鲁班>>')\n",
    "        if choice1 == 1:\n",
    "            print('典韦','战力--1568','防御---2890')\n",
    "        elif choice1 ==2:\n",
    "            print('赵云','战力--1234','防御---2679')\n",
    "        else :\n",
    "            print('鲁班','战力--3467','防御---6781')\n",
    "    def suiji(self):\n",
    "        res =np.random.choice(['典韦','赵云','鲁班'])\n",
    "        if res == '典韦':\n",
    "            print('典韦','战力--1568','防御---2890')\n",
    "        elif res =='赵云':\n",
    "            print('赵云','战力--1234','防御---2679')\n",
    "        else :\n",
    "            print('鲁班','战力--3467','防御---6781')\n",
    "    def kaishi(self):\n",
    "        print('点击开始按钮，进入加载页面 ... ')\n",
    "        \n",
    "        "
   ]
  },
  {
   "cell_type": "code",
   "execution_count": 2,
   "metadata": {},
   "outputs": [
    {
     "name": "stdout",
     "output_type": "stream",
     "text": [
      "输入>>1\n",
      "多人\n",
      "请选择英雄:典韦 赵云 鲁班>>1\n",
      "鲁班 战力--3467 防御---6781\n",
      "典韦 战力--1568 防御---2890\n",
      "点击开始按钮，进入加载页面 ... \n"
     ]
    }
   ],
   "source": [
    "WZ = wangzhe()\n",
    "WZ.duizhan()\n",
    "WZ.renwu()\n",
    "WZ.suiji()\n",
    "WZ.kaishi()"
   ]
  },
  {
   "cell_type": "code",
   "execution_count": 2,
   "metadata": {},
   "outputs": [
    {
     "name": "stdout",
     "output_type": "stream",
     "text": [
      "1\t5\t12\t22\t35\t51\t70\t92\t117\t145\t\n",
      "176\t210\t247\t287\t330\t376\t425\t477\t532\t590\t\n",
      "651\t715\t782\t852\t925\t1001\t1080\t1162\t1247\t1335\t\n",
      "1426\t1520\t1617\t1717\t1820\t1926\t2035\t2147\t2262\t2380\t\n",
      "2501\t2625\t2752\t2882\t3015\t3151\t3290\t3432\t3577\t3725\t\n",
      "3876\t4030\t4187\t4347\t4510\t4676\t4845\t5017\t5192\t5370\t\n",
      "5551\t5735\t5922\t6112\t6305\t6501\t6700\t6902\t7107\t7315\t\n",
      "7526\t7740\t7957\t8177\t8400\t8626\t8855\t9087\t9322\t9560\t\n",
      "9801\t10045\t10292\t10542\t10795\t11051\t11310\t11572\t11837\t12105\t\n",
      "12376\t12650\t12927\t13207\t13490\t13776\t14065\t14357\t14652\t14950\t\n"
     ]
    }
   ],
   "source": [
    "'''\n",
    "1、五角星：\n",
    "     一个五角数被定义为你n(3n-1)/2，其中n=1、2、...\n",
    "         def getPentagonaNumber(n):\n",
    "             c = int((n*(3*n-1)) / 2)\n",
    "             print(c,end = '\\t')\n",
    "             if n % 10 ==0:\n",
    "                 print()\n",
    "         for i in range(1,101): \n",
    "            getPentagonaNumber(i)     \n",
    "'''\n",
    "\n",
    "def getPentagonaNumber():\n",
    "    count = 0\n",
    "    for n in range(1,101):\n",
    "        number = (n*(3*n-1)) / 2\n",
    "        print(int(number),end = '\\t')\n",
    "        count += 1\n",
    "        if count % 10 ==0:\n",
    "            print(end = '\\n')\n",
    "    \n",
    "getPentagonaNumber()"
   ]
  },
  {
   "cell_type": "code",
   "execution_count": 17,
   "metadata": {},
   "outputs": [
    {
     "name": "stdout",
     "output_type": "stream",
     "text": [
      "请输入字符串:234\n",
      "9\n"
     ]
    }
   ],
   "source": [
    "'''\n",
    "2、求一个整数各个数字的和:\n",
    "     编写一个函数，计算一个整数各个数字的和\n",
    "     def sumDigits(n):\n",
    "         str_ = str(n) //str 将括号中的内容强制转换为字符串\n",
    "         int_ = 0\n",
    "         for i in str_:\n",
    "             int_+= int(i)\n",
    "         print(int_)\n",
    "'''\n",
    "def sumDigits(n):\n",
    "    sum =0\n",
    "    for i in range(len(n)):\n",
    "        if n[i] >= '0' and n[i] <= '9':\n",
    "            sum=sum +int(n[i])\n",
    "    return sum\n",
    "n =input('请输入字符串:')\n",
    "print(sumDigits(n))"
   ]
  },
  {
   "cell_type": "code",
   "execution_count": 20,
   "metadata": {},
   "outputs": [
    {
     "name": "stdout",
     "output_type": "stream",
     "text": [
      "请输入第一个数：1\n",
      "请输入第二个数：45\n",
      "请输入第三个数：23\n",
      "[1, 23, 45]\n"
     ]
    }
   ],
   "source": [
    "'''\n",
    "3、对三个数排序\n",
    "     编写下面的函数，以升序显示三个数\n",
    "     def displaySortedNumbers(num1,num2,num3):\n",
    "         res = [num1,num2,num3]\n",
    "         res.sort()\n",
    "         print(res)\n",
    "     displaySortedNumbers(1,2,3)\n",
    "'''\n",
    "def displaySortedNumbers():\n",
    "    num1 = int(input('请输入第一个数：'))\n",
    "    num2 = int(input('请输入第二个数：'))\n",
    "    num3 = int(input('请输入第三个数：'))\n",
    "    nums =[num1,num2,num3]\n",
    "    nums.sort()  #  sort 默认升序；reverse:翻转\n",
    "    print(nums)\n",
    "    \n",
    "displaySortedNumbers()\n"
   ]
  },
  {
   "cell_type": "code",
   "execution_count": 18,
   "metadata": {},
   "outputs": [],
   "source": [
    "'''\n",
    "4、财务应用程序：计算未来投资值\n",
    "     编写一个函数计算指定年数以给定的利率来计算未来投资值\n",
    "'''\n",
    "import numpy as np\n",
    "\n",
    "def futureInvestmentValue():\n",
    "    a = int(input('请输入投资额：'))\n",
    "    b = float(input('请输入年利率：'))\n",
    "    \n",
    "    for i in range(1,31):\n",
    "        future_value = np.fv(rate=b,nper=i,pmt=0,pv=-(a))\n",
    "        print(round(future_value,2))\n"
   ]
  },
  {
   "cell_type": "code",
   "execution_count": 19,
   "metadata": {},
   "outputs": [
    {
     "name": "stdout",
     "output_type": "stream",
     "text": [
      "请输入投资额：10000\n",
      "请输入年利率：0.09\n",
      "10900.0\n",
      "11881.0\n",
      "12950.29\n",
      "14115.82\n",
      "15386.24\n",
      "16771.0\n",
      "18280.39\n",
      "19925.63\n",
      "21718.93\n",
      "23673.64\n",
      "25804.26\n",
      "28126.65\n",
      "30658.05\n",
      "33417.27\n",
      "36424.82\n",
      "39703.06\n",
      "43276.33\n",
      "47171.2\n",
      "51416.61\n",
      "56044.11\n",
      "61088.08\n",
      "66586.0\n",
      "72578.74\n",
      "79110.83\n",
      "86230.81\n",
      "93991.58\n",
      "102450.82\n",
      "111671.4\n",
      "121721.82\n",
      "132676.78\n"
     ]
    }
   ],
   "source": [
    "futureInvestmentValue()"
   ]
  },
  {
   "cell_type": "code",
   "execution_count": 11,
   "metadata": {},
   "outputs": [],
   "source": [
    "'''\n",
    "5、显示字符：\n",
    "     使用下面的函数头，编写一个打印字符的函数\n",
    "'''\n",
    "def printChars(ch1,ch2,number):\n",
    "    a=ord(ch1)\n",
    "    b=ord(ch2)\n",
    "    count = 0\n",
    "    for i in range(a,b):\n",
    "        a1 = chr(i)\n",
    "        print(a1,end=' ')\n",
    "        count += 1\n",
    "        if count % 10 == 0:\n",
    "            print(end =\"\\n\")\n",
    "    "
   ]
  },
  {
   "cell_type": "code",
   "execution_count": 5,
   "metadata": {},
   "outputs": [
    {
     "name": "stdout",
     "output_type": "stream",
     "text": [
      "1 2 3 4 5 6 7 8 9 : \n",
      "; < = > ? @ A B C D \n",
      "E F G H I J K L M N \n",
      "O P Q R S T U V W X \n",
      "Y Z [ \\ ] ^ _ ` a b \n",
      "c d e f g h i j k l \n",
      "m n o p q r s t u v \n",
      "w x y "
     ]
    }
   ],
   "source": [
    "printChars(\"1\",\"z\",10)"
   ]
  },
  {
   "cell_type": "code",
   "execution_count": 27,
   "metadata": {},
   "outputs": [],
   "source": [
    "'''\n",
    "6、一年的天数：\n",
    "     使用下面的函数头编写一个函数，返回一年的天数\n",
    "'''\n",
    "import calendar\n",
    "def numberOfDayInAYear():\n",
    "    for i in range(2010,2021):\n",
    "        if i%4 == 0 and i%100 !=0:\n",
    "            print(i,' 366天')\n",
    "        else:\n",
    "            print(i,\" 365天\")"
   ]
  },
  {
   "cell_type": "code",
   "execution_count": 28,
   "metadata": {},
   "outputs": [
    {
     "name": "stdout",
     "output_type": "stream",
     "text": [
      "2010  365天\n",
      "2011  365天\n",
      "2012  366天\n",
      "2013  365天\n",
      "2014  365天\n",
      "2015  365天\n",
      "2016  366天\n",
      "2017  365天\n",
      "2018  365天\n",
      "2019  365天\n",
      "2020  366天\n"
     ]
    }
   ],
   "source": [
    "numberOfDayInAYear()"
   ]
  },
  {
   "cell_type": "code",
   "execution_count": 53,
   "metadata": {},
   "outputs": [],
   "source": [
    "'''\n",
    "7、几何问题：显示角\n",
    "     重写程序清单2—9使用下面的函数计算两点之间的距离\n",
    "'''\n",
    "import math\n",
    "\n",
    "def distance(x1,x2,y1,y2):\n",
    "    \n",
    "    d_x = x1-x2\n",
    "    d_y = y1-y2 \n",
    "    distance = math.sqrt(d_x**2 + d_y**2)\n",
    "    print(distance)\n",
    "    "
   ]
  },
  {
   "cell_type": "code",
   "execution_count": 54,
   "metadata": {},
   "outputs": [
    {
     "name": "stdout",
     "output_type": "stream",
     "text": [
      "3.1622776601683795\n"
     ]
    }
   ],
   "source": [
    "distance(2,3,3,6)"
   ]
  },
  {
   "cell_type": "code",
   "execution_count": 8,
   "metadata": {},
   "outputs": [
    {
     "name": "stdout",
     "output_type": "stream",
     "text": [
      "2 3\n",
      "3 7\n",
      "5 31\n",
      "7 127\n",
      "11 2047\n",
      "13 8191\n",
      "17 131071\n",
      "19 524287\n",
      "23 8388607\n",
      "29 536870911\n",
      "31 2147483647\n"
     ]
    }
   ],
   "source": [
    "'''\n",
    "8、梅森素数：\n",
    "     如果一个素数可以写成2^p-1的形式，其中p是某个正整数，那么这个数就被称作梅森素数\n",
    "'''\n",
    "def meisensushu(p):\n",
    "    q=pow(2,p)-1\n",
    "    m=2\n",
    "    if p==2:\n",
    "        print(p,q)\n",
    "    for i in range(2,p):\n",
    "        m=m+1\n",
    "        if p%i==0:\n",
    "            break\n",
    "        if m == p:\n",
    "            print(p,q)\n",
    "            \n",
    "for p in range(1,32):\n",
    "    meisensushu(p)\n",
    "        "
   ]
  },
  {
   "cell_type": "code",
   "execution_count": 23,
   "metadata": {},
   "outputs": [
    {
     "name": "stdout",
     "output_type": "stream",
     "text": [
      "time.time:1565166156.895222\n",
      "Cuurrent date and time is 2019 年 8 月 7 日 16 : 22 : 36\n"
     ]
    }
   ],
   "source": [
    "'''\n",
    "9、当前时间和日期;\n",
    "     调用time.time()返回从1970年1月1日0点开始的毫秒数\n",
    "'''\n",
    "import time\n",
    "print(\"time.time:%f\"%time.time())\n",
    "time.localtime()\n",
    "\n",
    "'''\n",
    "import time //导入time模块\n",
    "print(\"time.time:%f\"%time.time()) //从1970年1月1日0时0分0秒起,至当前时间,经过的浮点秒数\n",
    "time.localtime()  //返回当前时间的stuck_time(tuple的形式)格式\n",
    "print(time.localtime(time.time())) \n",
    "    //time.localtime(time.time())输出结果为：\n",
    "         time.struct_time(tm_year=年, tm_mon=月, \n",
    "         tm_mday=日, tm_hour=小时, tm_min=分钟, tm_sec=秒, \n",
    "         tm_wday=weekday（0-6周日是0）, tm_yday=218（一年中的第几天）, \n",
    "         tm_isdst= 默认为-1)\n",
    "time.asctime() //传入struct_time的时间,输出格式化时间,英文简写的星期几,几月,几日,时间,年份\n",
    "'''\n",
    "time = time.localtime(time.time())\n",
    "print(\"Cuurrent date and time is\",time.tm_year,\"年\",\n",
    "      time.tm_mon,\"月\",time.tm_mday,\"日\",\n",
    "      time.tm_hour,\":\",time.tm_min,\":\",time.tm_sec)"
   ]
  },
  {
   "cell_type": "code",
   "execution_count": 13,
   "metadata": {},
   "outputs": [
    {
     "name": "stdout",
     "output_type": "stream",
     "text": [
      "您第一次抛出的点数为: 3\n",
      "您第二次抛出的点数为: 4\n",
      "您抛出的两次点数之和为： 7\n",
      "你赢了！！！\n"
     ]
    }
   ],
   "source": [
    "'''\n",
    "10、游戏：掷骰子\n",
    "      \n",
    "'''\n",
    "import numpy as np\n",
    "def dianshu():\n",
    "    res1 = np.random.choice([1,2,3,4,5,6])\n",
    "    print(\"您第一次抛出的点数为:\",res1)\n",
    "    res2 = np.random.choice([1,2,3,4,5,6])\n",
    "    print(\"您第二次抛出的点数为:\",res2)\n",
    "    res = res1 + res2\n",
    "    print(\"您抛出的两次点数之和为：\",res)\n",
    "    return res\n",
    "res = dianshu()\n",
    "if res==2 or res==3 or res==12:\n",
    "    print(\"你输了！！！\")\n",
    "elif res==7 or res==11:\n",
    "    print(\"你赢了！！！\")\n",
    "else:\n",
    "    res3 = res\n",
    "    res = dianshu()\n",
    "    if res ==7 or res == res3:\n",
    "        print(\"你赢了！！！\")\n",
    "    else:\n",
    "        print(\"请开始下一局！\")"
   ]
  },
  {
   "cell_type": "code",
   "execution_count": null,
   "metadata": {},
   "outputs": [],
   "source": []
  },
  {
   "cell_type": "code",
   "execution_count": null,
   "metadata": {},
   "outputs": [],
   "source": []
  }
 ],
 "metadata": {
  "kernelspec": {
   "display_name": "Python 3",
   "language": "python",
   "name": "python3"
  },
  "language_info": {
   "codemirror_mode": {
    "name": "ipython",
    "version": 3
   },
   "file_extension": ".py",
   "mimetype": "text/x-python",
   "name": "python",
   "nbconvert_exporter": "python",
   "pygments_lexer": "ipython3",
   "version": "3.6.4"
  }
 },
 "nbformat": 4,
 "nbformat_minor": 2
}
